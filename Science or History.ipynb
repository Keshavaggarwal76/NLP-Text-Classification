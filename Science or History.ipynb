{
 "cells": [
  {
   "cell_type": "code",
   "execution_count": 1,
   "id": "3ed28588",
   "metadata": {},
   "outputs": [
    {
     "name": "stderr",
     "output_type": "stream",
     "text": [
      "[nltk_data] Downloading package punkt to\n",
      "[nltk_data]     C:\\Users\\Admin\\AppData\\Roaming\\nltk_data...\n",
      "[nltk_data]   Package punkt is already up-to-date!\n",
      "[nltk_data] Downloading package stopwords to\n",
      "[nltk_data]     C:\\Users\\Admin\\AppData\\Roaming\\nltk_data...\n",
      "[nltk_data]   Package stopwords is already up-to-date!\n"
     ]
    }
   ],
   "source": [
    "import fitz\n",
    "import pandas as pd\n",
    "import numpy as np\n",
    "import nltk\n",
    "import re\n",
    "from nltk.tokenize import sent_tokenize, word_tokenize\n",
    "nltk.download('punkt')\n",
    "nltk.download('stopwords')\n",
    "from nltk.corpus import stopwords\n",
    "from nltk.stem import SnowballStemmer\n",
    "from textblob import TextBlob"
   ]
  },
  {
   "cell_type": "code",
   "execution_count": 2,
   "id": "020c3f68",
   "metadata": {},
   "outputs": [],
   "source": [
    "def questions(question):\n",
    "    clean_text_1 = word_tokenize(str.lower(question))\n",
    "    \n",
    "    clean_text_2 = []\n",
    "    for words in clean_text_1:\n",
    "        res1 = re.sub(r'[^\\w\\s]',\"\",words)\n",
    "        res = re.sub(r'[^\\D]',\"\",res1)\n",
    "        if res != \"\":\n",
    "            clean_text_2.append(res)\n",
    "            \n",
    "    clean_text_3 = {i for i in clean_text_2 if i not in stopwords.words('english') and len(i)>1 and len(i)!=53}\n",
    "    \n",
    "    redundant_words = ['mcqs','question','set','questions','mcq','__________','next','page']\n",
    "    clean_text_4 = [i for i in clean_text_3 if i not in redundant_words]\n",
    "    \n",
    "    sbs = SnowballStemmer(\"english\")\n",
    "    stemmed_tokens = [sbs.stem(tokens) for tokens in clean_text_4]\n",
    "    clean_text_5 = \" \".join(stemmed_tokens)\n",
    "    \n",
    "    return clean_text_5"
   ]
  },
  {
   "cell_type": "code",
   "execution_count": 3,
   "id": "65314836",
   "metadata": {},
   "outputs": [],
   "source": [
    "def extract_text_sci(n):\n",
    "    path = r\".\\Questions\\Science and Tech\\qna-scte-\"+ str(n) + \".pdf\"\n",
    "    with fitz.open(path) as doc:\n",
    "        text = \"\"\n",
    "        for page in doc:\n",
    "            text += page.getText()\n",
    "    return text"
   ]
  },
  {
   "cell_type": "code",
   "execution_count": 4,
   "id": "423353a8",
   "metadata": {},
   "outputs": [],
   "source": [
    "ques_sci = [[sentence for index, sentence in enumerate(extract_text_sci(i).split(\"Question \")) \n",
    "         if type(int(sentence[0]))== int and index!=0] for i in range(1,10)]\n",
    "q_sci=[]\n",
    "for set in ques_sci:\n",
    "    for s in set:\n",
    "        q_sci.append(questions(s))"
   ]
  },
  {
   "cell_type": "code",
   "execution_count": 5,
   "id": "ce1f4b2d",
   "metadata": {},
   "outputs": [],
   "source": [
    "def extract_text_hi(n):\n",
    "    path = r\".\\Questions\\History\\anhi-dca-\"+ str(n) + \".pdf\"\n",
    "    with fitz.open(path) as doc:\n",
    "        text = \"\"\n",
    "        for page in doc:\n",
    "            text += page.getText()\n",
    "    return text"
   ]
  },
  {
   "cell_type": "code",
   "execution_count": 6,
   "id": "c90a1b3f",
   "metadata": {},
   "outputs": [],
   "source": [
    "ques_hi = [[sentence for index, sentence in enumerate(extract_text_hi(i).split(\"Download Now\")) \n",
    "         if index==1][0].split(\"Show Answer\")[:-1] for i in range(1,10)]\n",
    "\n",
    "r = 'Ancient Indian History Quiz Multiple Choice Questions \\\n",
    "( - GKToday\\nhttps://www.gktoday.in/quizbase/ancient-indian-history-multiple-choice-questions'\n",
    "\n",
    "q_hi=[]\n",
    "for set in ques_hi:\n",
    "    for s in set:\n",
    "        if r in s:\n",
    "            s = s.replace(r,'')\n",
    "        q_hi.append(questions(s))\n",
    "\n",
    "q_hi = [i for i in q_hi if len(i)>1 ]"
   ]
  },
  {
   "cell_type": "code",
   "execution_count": 7,
   "id": "9b340c3d",
   "metadata": {},
   "outputs": [],
   "source": [
    "q = q_sci + q_hi"
   ]
  },
  {
   "cell_type": "code",
   "execution_count": 8,
   "id": "c66267c6",
   "metadata": {},
   "outputs": [],
   "source": [
    "l = list(np.ones(len(q_sci)))+list(np.zeros(len(q_hi)))"
   ]
  },
  {
   "cell_type": "code",
   "execution_count": 9,
   "id": "0ed557f4",
   "metadata": {},
   "outputs": [
    {
     "data": {
      "text/html": [
       "<div>\n",
       "<style scoped>\n",
       "    .dataframe tbody tr th:only-of-type {\n",
       "        vertical-align: middle;\n",
       "    }\n",
       "\n",
       "    .dataframe tbody tr th {\n",
       "        vertical-align: top;\n",
       "    }\n",
       "\n",
       "    .dataframe thead th {\n",
       "        text-align: right;\n",
       "    }\n",
       "</style>\n",
       "<table border=\"1\" class=\"dataframe\">\n",
       "  <thead>\n",
       "    <tr style=\"text-align: right;\">\n",
       "      <th></th>\n",
       "      <th>Question</th>\n",
       "      <th>subject</th>\n",
       "    </tr>\n",
       "  </thead>\n",
       "  <tbody>\n",
       "    <tr>\n",
       "      <th>0</th>\n",
       "      <td>found decad american electr institut aiee engin</td>\n",
       "      <td>1</td>\n",
       "    </tr>\n",
       "    <tr>\n",
       "      <th>1</th>\n",
       "      <td>databas file one inform part record report typ...</td>\n",
       "      <td>1</td>\n",
       "    </tr>\n",
       "    <tr>\n",
       "      <th>2</th>\n",
       "      <td>optic usual sowar mean order open sensor os ab...</td>\n",
       "      <td>1</td>\n",
       "    </tr>\n",
       "    <tr>\n",
       "      <th>3</th>\n",
       "      <td>radio decad type transatlant occur technolog b...</td>\n",
       "      <td>1</td>\n",
       "    </tr>\n",
       "    <tr>\n",
       "      <th>4</th>\n",
       "      <td>file document usual imag audio oic subtop refe...</td>\n",
       "      <td>1</td>\n",
       "    </tr>\n",
       "  </tbody>\n",
       "</table>\n",
       "</div>"
      ],
      "text/plain": [
       "                                            Question  subject\n",
       "0    found decad american electr institut aiee engin        1\n",
       "1  databas file one inform part record report typ...        1\n",
       "2  optic usual sowar mean order open sensor os ab...        1\n",
       "3  radio decad type transatlant occur technolog b...        1\n",
       "4  file document usual imag audio oic subtop refe...        1"
      ]
     },
     "execution_count": 9,
     "metadata": {},
     "output_type": "execute_result"
    }
   ],
   "source": [
    "df = pd.DataFrame(pd.Series(q),columns=['Question'])\n",
    "df['subject'] = l\n",
    "df.subject = df.subject.apply(lambda x: int(x))\n",
    "df.head()"
   ]
  },
  {
   "cell_type": "markdown",
   "id": "0e540d75",
   "metadata": {},
   "source": [
    "## TF-IDR"
   ]
  },
  {
   "cell_type": "code",
   "execution_count": 10,
   "id": "cf2e984d",
   "metadata": {},
   "outputs": [],
   "source": [
    "# bag of words\n",
    "from sklearn.feature_extraction.text import TfidfVectorizer\n",
    "from sklearn.feature_extraction.text import CountVectorizer"
   ]
  },
  {
   "cell_type": "code",
   "execution_count": 11,
   "id": "cd9da3e4",
   "metadata": {},
   "outputs": [],
   "source": [
    "#for model-building\n",
    "from sklearn.model_selection import train_test_split\n",
    "from sklearn.linear_model import LogisticRegression\n",
    "from sklearn.linear_model import SGDClassifier\n",
    "from sklearn.naive_bayes import MultinomialNB\n",
    "from sklearn import svm\n",
    "from sklearn.ensemble import RandomForestClassifier\n",
    "from sklearn.model_selection import GridSearchCV"
   ]
  },
  {
   "cell_type": "code",
   "execution_count": 12,
   "id": "883a22c0",
   "metadata": {},
   "outputs": [],
   "source": [
    "X_train, X_val, y_train, y_val = train_test_split(df[\"Question\"],df.subject,test_size=0.2,shuffle=True)"
   ]
  },
  {
   "cell_type": "code",
   "execution_count": 13,
   "id": "8f013fba",
   "metadata": {},
   "outputs": [],
   "source": [
    "tfidf_vectorizer = TfidfVectorizer(use_idf=True)\n",
    "X_train_vectors_tfidf = tfidf_vectorizer.fit_transform(X_train) \n",
    "X_val_vectors_tfidf = tfidf_vectorizer.transform(X_val)"
   ]
  },
  {
   "cell_type": "markdown",
   "id": "e245c037",
   "metadata": {},
   "source": [
    "## ML"
   ]
  },
  {
   "cell_type": "code",
   "execution_count": 14,
   "id": "8d60495d",
   "metadata": {},
   "outputs": [],
   "source": [
    "model_params = {\n",
    "    'SVM': {\n",
    "        'model': svm.SVC(gamma='auto'),\n",
    "        'params' : {\n",
    "            'C': [1,10,20],\n",
    "            'kernel': ['rbf','linear']\n",
    "        }  \n",
    "    },\n",
    "    'Random Forest': {\n",
    "        'model': RandomForestClassifier(),\n",
    "        'params' : {\n",
    "            'n_estimators': [1,5,10]\n",
    "        }\n",
    "    },\n",
    "    'Logistic Regression' : {\n",
    "        'model': LogisticRegression(solver='liblinear',multi_class='auto'),\n",
    "        'params': {\n",
    "            'C': [1,5,10]\n",
    "        }\n",
    "    },\n",
    "    'Naive Bayes': {\n",
    "        'model': MultinomialNB(),\n",
    "        'params':{}\n",
    "    },\n",
    "    'SGD':{\n",
    "        'model': SGDClassifier(),\n",
    "        'params':{}\n",
    "    }\n",
    "}\n"
   ]
  },
  {
   "cell_type": "code",
   "execution_count": 15,
   "id": "164681f0",
   "metadata": {},
   "outputs": [
    {
     "data": {
      "text/html": [
       "<div>\n",
       "<style scoped>\n",
       "    .dataframe tbody tr th:only-of-type {\n",
       "        vertical-align: middle;\n",
       "    }\n",
       "\n",
       "    .dataframe tbody tr th {\n",
       "        vertical-align: top;\n",
       "    }\n",
       "\n",
       "    .dataframe thead th {\n",
       "        text-align: right;\n",
       "    }\n",
       "</style>\n",
       "<table border=\"1\" class=\"dataframe\">\n",
       "  <thead>\n",
       "    <tr style=\"text-align: right;\">\n",
       "      <th></th>\n",
       "      <th>Model</th>\n",
       "      <th>Best Score</th>\n",
       "      <th>Best Params</th>\n",
       "    </tr>\n",
       "  </thead>\n",
       "  <tbody>\n",
       "    <tr>\n",
       "      <th>0</th>\n",
       "      <td>SVM</td>\n",
       "      <td>0.879654</td>\n",
       "      <td>{'C': 10, 'kernel': 'linear'}</td>\n",
       "    </tr>\n",
       "    <tr>\n",
       "      <th>1</th>\n",
       "      <td>Random Forest</td>\n",
       "      <td>0.842857</td>\n",
       "      <td>{'n_estimators': 5}</td>\n",
       "    </tr>\n",
       "    <tr>\n",
       "      <th>2</th>\n",
       "      <td>Logistic Regression</td>\n",
       "      <td>0.814286</td>\n",
       "      <td>{'C': 5}</td>\n",
       "    </tr>\n",
       "    <tr>\n",
       "      <th>3</th>\n",
       "      <td>Naive Bayes</td>\n",
       "      <td>0.823810</td>\n",
       "      <td>{}</td>\n",
       "    </tr>\n",
       "    <tr>\n",
       "      <th>4</th>\n",
       "      <td>SGD</td>\n",
       "      <td>0.972294</td>\n",
       "      <td>{}</td>\n",
       "    </tr>\n",
       "  </tbody>\n",
       "</table>\n",
       "</div>"
      ],
      "text/plain": [
       "                 Model  Best Score                    Best Params\n",
       "0                  SVM    0.879654  {'C': 10, 'kernel': 'linear'}\n",
       "1        Random Forest    0.842857            {'n_estimators': 5}\n",
       "2  Logistic Regression    0.814286                       {'C': 5}\n",
       "3          Naive Bayes    0.823810                             {}\n",
       "4                  SGD    0.972294                             {}"
      ]
     },
     "execution_count": 15,
     "metadata": {},
     "output_type": "execute_result"
    }
   ],
   "source": [
    "scores = []\n",
    "\n",
    "for model_name, mp in model_params.items():\n",
    "    clf =  GridSearchCV(mp['model'], mp['params'], cv=5, return_train_score=False)\n",
    "    clf.fit(X_train_vectors_tfidf, y_train)\n",
    "    scores.append({\n",
    "        'Model': model_name,\n",
    "        'Best Score': clf.best_score_,\n",
    "        'Best Params': clf.best_params_\n",
    "    })\n",
    "    \n",
    "df = pd.DataFrame(scores,columns=['Model','Best Score','Best Params'])\n",
    "df"
   ]
  },
  {
   "cell_type": "markdown",
   "id": "3ed05b60",
   "metadata": {},
   "source": [
    "## Test"
   ]
  },
  {
   "cell_type": "code",
   "execution_count": 16,
   "id": "ada518e1",
   "metadata": {},
   "outputs": [
    {
     "name": "stdout",
     "output_type": "stream",
     "text": [
      "GridSearchCV(cv=5, estimator=SGDClassifier(), param_grid={})\n"
     ]
    }
   ],
   "source": [
    "print(clf)"
   ]
  },
  {
   "cell_type": "code",
   "execution_count": 17,
   "id": "d3d9f3d9",
   "metadata": {},
   "outputs": [
    {
     "data": {
      "text/plain": [
       "0.8888888888888888"
      ]
     },
     "execution_count": 17,
     "metadata": {},
     "output_type": "execute_result"
    }
   ],
   "source": [
    "clf.score(X_val_vectors_tfidf,y_val)"
   ]
  },
  {
   "cell_type": "code",
   "execution_count": 18,
   "id": "03ff0ffd",
   "metadata": {},
   "outputs": [],
   "source": [
    "t = ['''The term `kayotsarga’ is related to\n",
    "a) A way of following rules in Buddhism\n",
    "b) A yogic posture of Jain meditation\n",
    "c) Ashoka’s principles to follow dhamma\n",
    "d) Vedic literature influenced by Dasas''',\n",
    "     \n",
    "'''In the context of recent advances in human reproductive technology, ‘Pronuclear Transfer” is used for\n",
    "(a) Fertilization of egg in vitro by the donor sperm\n",
    "(b) Genetic modification of sperm producing cells\n",
    "(c) Development of stem cells into functional embryos\n",
    "(d) Prevention of mitochondrial diseases in offspring''']\n",
    "\n",
    "k = [questions(i) for i in t]"
   ]
  },
  {
   "cell_type": "code",
   "execution_count": 19,
   "id": "db7d669e",
   "metadata": {},
   "outputs": [
    {
     "data": {
      "text/plain": [
       "array([0, 1], dtype=int64)"
      ]
     },
     "execution_count": 19,
     "metadata": {},
     "output_type": "execute_result"
    }
   ],
   "source": [
    "clf.predict(tfidf_vectorizer.transform(k))"
   ]
  }
 ],
 "metadata": {
  "kernelspec": {
   "display_name": "Python 3 (ipykernel)",
   "language": "python",
   "name": "python3"
  },
  "language_info": {
   "codemirror_mode": {
    "name": "ipython",
    "version": 3
   },
   "file_extension": ".py",
   "mimetype": "text/x-python",
   "name": "python",
   "nbconvert_exporter": "python",
   "pygments_lexer": "ipython3",
   "version": "3.9.6"
  }
 },
 "nbformat": 4,
 "nbformat_minor": 5
}
